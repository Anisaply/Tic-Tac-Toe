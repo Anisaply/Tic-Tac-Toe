{
 "cells": [
  {
   "cell_type": "markdown",
   "metadata": {},
   "source": [
    "# Week 6\n",
    "\n",
    "Welcome to Week 6 of Prog Soc! You've reached the final chapter of the tic-tac-toe segment!\n",
    "\n",
    "This week we'll be applying all our knowledge to implement the *minimax* algorithm to the game, creating a simple AI opponent. As always, please ask any of our tutors for help and discuss amongst yourselves.\n",
    "\n",
    "To run your code, click on the cell you want to run and either press the *Run* button above or press `Ctrl+Enter`.\n",
    "\n",
    "**Remember** - this notebook won't save when you close this tab. It's meant to serve as a self-contained guide to help you *during* the lessons. If you want to make some notes and practice outside of lessons, we recommend you use [**Repl**](https://repl.it/)."
   ]
  },
  {
   "cell_type": "markdown",
   "metadata": {},
   "source": [
    "## Minimax - a reminder\n",
    "\n",
    "The minimax algorithm is an *adversarial search algorithm* - it searches for solutions assuming there is an opponent (adversary) whose aim is to win for itself and make you lose. To do this it has to make an assumption - that the opponent is playing 'optimally'. It is probably the simplest of these algorithms but can be suprisingly powerful.\n",
    "\n",
    "It works by essentially evaluating every possible scenario and picking the move that will result in the best possible outcome for it, assuming the opponent also plays using this strategy. \n",
    "\n",
    "There are 2 players, `MAX` and `MIN`. **TBD - algo explanation**\n",
    "\n",
    "![](https://www.baeldung.com/wp-content/uploads/2017/07/minimax.png)\n",
    "\n",
    "\n",
    "\n",
    "We'll implement this algorithm in small steps by writing helper functions."
   ]
  },
  {
   "cell_type": "markdown",
   "metadata": {},
   "source": [
    "## Setting Up\n",
    "\n",
    "Let's start by writing a function `terminal()` that takes in 1 argument, a game board, and returns `True` if it is a final state, i.e. there is a winner or it is a draw, and `False` otherwise. **Hint** - you might use your `checkWin()` function from before."
   ]
  },
  {
   "cell_type": "code",
   "execution_count": 1,
   "metadata": {},
   "outputs": [],
   "source": [
    "# Write your terminal function here!"
   ]
  },
  {
   "cell_type": "markdown",
   "metadata": {},
   "source": [
    "Now you've got that, it's time to make a `score()` function. Again, this takes 1 game board as an argument (assumed terminal), and returns `1` if the `MAX` player wins, `-1` if the `MIN` player wins and `0` if it's a draw."
   ]
  },
  {
   "cell_type": "code",
   "execution_count": 2,
   "metadata": {},
   "outputs": [],
   "source": [
    "# Write your score function here!"
   ]
  },
  {
   "cell_type": "markdown",
   "metadata": {},
   "source": [
    "Nice job! Now for something a little more involved. The algorithm requires us to consider the outcome of every possible move so it would be great to have a function `nextMoves()`, which given a game board as the argument, returns a list of all possible game boards which can result from 1 move by the machine. Given a game board, the machine can place its token in any one of the blank spaces. Write the `nextMoves()` function, which returns the list of all the boards which are possible directly after the token is placed."
   ]
  },
  {
   "cell_type": "code",
   "execution_count": 3,
   "metadata": {},
   "outputs": [],
   "source": [
    "# Write your nextMoves function here!"
   ]
  },
  {
   "cell_type": "markdown",
   "metadata": {},
   "source": [
    "And now for the final piece: the `minimax` function itself. This is a recursive algorithm that traverses 'down' the search tree and returns a list of values corresponding to the scores of all the game boards possible after placing the token. What you do at each 'level' is dependent on the player whose turn it is at that level! Try coding the `minimax()` function. If you need help, try re-reading the description of the algorithm above and give our tutors a wave. **Hint** - this time, the function takes in not just a game board, but also which player's turn it is (`MAX` or `MIN`)."
   ]
  },
  {
   "cell_type": "code",
   "execution_count": 4,
   "metadata": {},
   "outputs": [],
   "source": [
    "# Write your minimax function here!"
   ]
  }
 ],
 "metadata": {
  "kernelspec": {
   "display_name": "Python 3",
   "language": "python",
   "name": "python3"
  },
  "language_info": {
   "codemirror_mode": {
    "name": "ipython",
    "version": 3
   },
   "file_extension": ".py",
   "mimetype": "text/x-python",
   "name": "python",
   "nbconvert_exporter": "python",
   "pygments_lexer": "ipython3",
   "version": "3.7.4"
  }
 },
 "nbformat": 4,
 "nbformat_minor": 4
}
