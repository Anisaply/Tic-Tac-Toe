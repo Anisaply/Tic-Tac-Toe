{
 "cells": [
  {
   "cell_type": "code",
   "execution_count": 1,
   "metadata": {},
   "outputs": [],
   "source": [
    "import spacy\n",
    "import numpy as np\n",
    "\n",
    "nlp = spacy.load('en')\n",
    "\n",
    "def select_tags(inp):\n",
    "    forb_V = [\"are\",\"is\",\"am\",\"be\"]\n",
    "    tags = []\n",
    "    doc = nlp(inp)\n",
    "    for token in doc:\n",
    "        if (token.pos_ == \"NOUN\" and (token.dep_ == \"pobj\" or token.dep_ == \"dobj\")):\n",
    "            tags.append(token.text)\n",
    "        elif (token.pos_ == \"ADJ\" and token.dep_ == \"acomp\"):\n",
    "            tags.append(token.text)\n",
    "        elif token.pos_ == \"VERB\" and (token.dep_ == \"xcomp\" or token.dep_ == \"ROOT\") and token.text not in forb_V:\n",
    "            tags.append(token.text)\n",
    "    \n",
    "    for chunk in doc.noun_chunks:\n",
    "        tags.append(chunk.text)\n",
    "        \n",
    "    for ent in doc.ents:\n",
    "        tags.append(ent.text)\n",
    "    \n",
    "    return tags\n",
    "\n",
    "def NLPAlg(interest,schemes):\n",
    "    sims = []\n",
    "    tags1 = select_tags(interest)\n",
    "    join_tags1 = ' '.join(tags1)\n",
    "    doc = nlp(join_tags1)\n",
    "    for scheme in schemes:\n",
    "        tags = select_tags(scheme)\n",
    "        join_tags = ' '.join(tags)\n",
    "        doc2 = nlp(join_tags)\n",
    "        sim = doc.similarity(doc2)\n",
    "        sims.append(sim)\n",
    "        final_list = [x for _, x in sorted(zip(sims,schemes),reverse=True)]\n",
    "    if len(final_list) >= 3:\n",
    "        for i in range(3):\n",
    "            print(final_list[i])\n",
    "    else:\n",
    "        result = []\n",
    "        for i in range(len(final_list)):\n",
    "             result.append(final_list[i])\n",
    "        for j in result:\n",
    "            print(j)\n",
    "\n"
   ]
  },
  {
   "cell_type": "code",
   "execution_count": 2,
   "metadata": {},
   "outputs": [
    {
     "name": "stdout",
     "output_type": "stream",
     "text": [
      "Invest in a hedgefund today! You'll enjoy it!\n",
      "You are next.\n"
     ]
    }
   ],
   "source": [
    "#Test case 1:\n",
    "\n",
    "NLPAlg(\"Interested in investing in a hedgefund.\",[\"Invest in a hedgefund today! You'll enjoy it!\",\"You are next.\"])\n",
    "\n"
   ]
  },
  {
   "cell_type": "code",
   "execution_count": 3,
   "metadata": {},
   "outputs": [
    {
     "name": "stdout",
     "output_type": "stream",
     "text": [
      "Feel free to contact me if you are a hard worker and have a keen business sense.\n",
      "Busy this summer? Looking for some work experience before going off to uni? We can help with that!We are offering a software development intership this Summer\n",
      "Anyone willing to have a steep learning curve over the Summer is welcome on this course \n"
     ]
    }
   ],
   "source": [
    "#Test case 2:\n",
    "\n",
    "NLPAlg(\"I am a finance student and would like to get started with an internship. I am a hard worker.\",[\"Looking for anyone who is interested in computing and machine learning technologies.\",\n",
    " \"Feel free to contact me if you are a hard worker and have a keen business sense.\",\n",
    " \"We have a great introductory programme to financial development\",\n",
    " \"We have a couple of vacancies in the toilet cleaning profession\",\n",
    " \"If you're an eager learner and don't have much experience with coding, we have the perfect opportunity for you!\",\n",
    " \"Busy this summer? Looking for some work experience before going off to uni? We can help with that!\"\n",
    " \"We are offering a software development intership this Summer\",\n",
    " \"This internship concerns anyone looking at applications of technology in different industries\",\n",
    " \"Anyone willing to have a steep learning curve over the Summer is welcome on this course \",\n",
    " \"This test case should never actually be returned\",\n",
    " \"I am interested in sponsoring anyone with a strong idea\"])\n",
    "\n"
   ]
  },
  {
   "cell_type": "code",
   "execution_count": 4,
   "metadata": {},
   "outputs": [
    {
     "name": "stdout",
     "output_type": "stream",
     "text": [
      "A law firm offering work experience this summer. We look forward to meeting you and we especially welcome anyone with a background in literature.\n",
      "We are offering paid internships for young students. Some time along the way you could get a trip to China!\n",
      "We are a technology company who are interested in keen learners and passionate coders. We look forward to hearing from you.\n"
     ]
    }
   ],
   "source": [
    "#Test case 3:\n",
    "\n",
    "NLPAlg(\"I am a literature student from China looking to rack up some good experience speaking English. I would love to teach it somewhere.\",[\"We are offering paid internships for young students. Some time along the way you could get a trip to China!\",\"A law firm offering work experience this summer. We look forward to meeting you and we especially welcome anyone with a background in literature.\",\"We are a technology company who are interested in keen learners and passionate coders. We look forward to hearing from you.\",\"Originally based in Scotland, our company will take you to new heights with our new sports programme!\"])\n",
    "\n"
   ]
  },
  {
   "cell_type": "code",
   "execution_count": 5,
   "metadata": {},
   "outputs": [
    {
     "name": "stdout",
     "output_type": "stream",
     "text": [
      "We would like to offer you funding if you could prove your contribution to the Taiwanese economy.\n",
      "I am looking to fund a project in the South-East Asian economic landscape. I will consider you.\n",
      "This scheme will only work if you let us know that your company will work in healthcare.\n"
     ]
    }
   ],
   "source": [
    "#Test case 4:\n",
    "\n",
    "NLPAlg(\"I am an up-and-coming Taiwanese tycoon, and I would like to receive funding for a new company that I'm thinking of starting. I think it'll help the economy of Taiwan and I hope you pick me.\",\n",
    "       [\"We would like to offer you funding if you could prove your contribution to the Taiwanese economy.\",\"I am looking to fund a project in the South-East Asian economic landscape. I will consider you.\",\"This scheme will only work if you let us know that your company will work in healthcare.\",\"There is great potential in your future plans, and I would like to be a part of them. Although, I was in prison for five years.\"])\n",
    "\n"
   ]
  }
 ],
 "metadata": {
  "kernelspec": {
   "display_name": "Python 3",
   "language": "python",
   "name": "python3"
  },
  "language_info": {
   "codemirror_mode": {
    "name": "ipython",
    "version": 3
   },
   "file_extension": ".py",
   "mimetype": "text/x-python",
   "name": "python",
   "nbconvert_exporter": "python",
   "pygments_lexer": "ipython3",
   "version": "3.7.1"
  }
 },
 "nbformat": 4,
 "nbformat_minor": 2
}
