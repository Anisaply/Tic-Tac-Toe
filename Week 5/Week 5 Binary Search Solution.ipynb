{
 "cells": [
  {
   "cell_type": "code",
   "execution_count": 2,
   "metadata": {},
   "outputs": [
    {
     "name": "stdout",
     "output_type": "stream",
     "text": [
      "8\n",
      "2\n",
      "-1\n"
     ]
    }
   ],
   "source": [
    "def binary_search(arr, target):\n",
    "    lo = 0\n",
    "    hi = len(arr)-1\n",
    "    \n",
    "    while lo <= hi:\n",
    "        mid_index = int((lo+hi)/2) # or lo + (hi-lo)/2 to avoid overflow\n",
    "        mid_val = arr[mid_index]\n",
    "        if mid_val == target:\n",
    "            # value is found! return its index\n",
    "            return mid_index\n",
    "        elif mid_val > target:\n",
    "            # continue search in first half\n",
    "            hi = mid_index-1\n",
    "        elif mid_val < target:\n",
    "            # continue search in second half\n",
    "            lo = mid_index+1\n",
    "            \n",
    "    # value was not found, return -1\n",
    "    return -1\n",
    "        \n",
    "arr1 = [1,2,3,4,5,6,12,24,48]\n",
    "\n",
    "print(binary_search(arr1, 48))\n",
    "print(binary_search(arr1, 3))\n",
    "print(binary_search(arr1, 7))"
   ]
  }
 ],
 "metadata": {
  "kernelspec": {
   "display_name": "Python 3",
   "language": "python",
   "name": "python3"
  },
  "language_info": {
   "codemirror_mode": {
    "name": "ipython",
    "version": 3
   },
   "file_extension": ".py",
   "mimetype": "text/x-python",
   "name": "python",
   "nbconvert_exporter": "python",
   "pygments_lexer": "ipython3",
   "version": "3.7.1"
  }
 },
 "nbformat": 4,
 "nbformat_minor": 2
}
