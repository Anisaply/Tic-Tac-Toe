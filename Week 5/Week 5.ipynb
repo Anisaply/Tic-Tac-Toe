{
 "cells": [
  {
   "cell_type": "markdown",
   "metadata": {},
   "source": [
    "# Binary Search\n",
    "\n",
    "Welcome to Week 5 of Prog Soc! This week we're going to get started on some a basic algorithm to improve your general knowledge of computer science in general! The algorithm is called **binary search**. \n",
    "\n",
    "Binary search is an efficient way to look for an element in a **sorted** array. We can compare it to looking for a word in a dictionary. Say we want to look up the word 'python'. We might open the dictionary to about halfway through and check how far off we are from the 'P' words. If we see words starting with 'M' then we know that the 'P' words are further on in the dictionary. Likewise if we are looking for 'apple', we know that the word will be earlier on. \n",
    "\n",
    "This is the intuition behind binary search. Essentially, we:\n",
    "\n",
    "- Find the midpoint of the array\n",
    "- If this value is greater than the target value, continue the search in the first half of the array\n",
    "- Otherwise, search in the second half\n",
    "- Repeat these steps until the value is found, otherwise the value is not present in the array\n",
    "\n",
    "Now we will implement this algorithm! The key is to have two pointers **lo** and **hi** which define the search region. This initial search space will of course be the entire array. We then iteratively half this search space  until the value is found. The stopping criteria for the algorithm are either the value is found, or the two pointers cross, in which case the value is not present in the array. \n",
    "\n",
    "Since the search space is halved with each iteration, the time complexity of this algorithm is O(log(n)). **NB**: remember that the array must be sorted for this algorithm to work! So if the array is unsorted, you will also have to add the time complexity of the sorting algorithm that you choose to use!\n",
    "\n",
    "It's your turn to implement the binary search algorithm now. Implement it so that it returns the index of the target value in the array, otherwise return -1. If you have any questions, ask the tutors!  \n",
    "\n",
    "Bonus: time your algorithm against linear search using **timeit** to see the difference in performance!"
   ]
  },
  {
   "cell_type": "code",
   "execution_count": 11,
   "metadata": {},
   "outputs": [
    {
     "name": "stdout",
     "output_type": "stream",
     "text": [
      "None\n",
      "None\n",
      "None\n"
     ]
    }
   ],
   "source": [
    "def binary_search(arr, target):\n",
    "    # TODO\n",
    "    pass\n",
    "\n",
    "arr1 = [1,2,3,4,5,6,12,24,48]\n",
    "\n",
    "print(binary_search(arr1, 48)) # output: 8 \n",
    "print(binary_search(arr1, 3)) # output: 2\n",
    "print(binary_search(arr1, 7)) # output: -1"
   ]
  }
 ],
 "metadata": {
  "kernelspec": {
   "display_name": "Python 3",
   "language": "python",
   "name": "python3"
  },
  "language_info": {
   "codemirror_mode": {
    "name": "ipython",
    "version": 3
   },
   "file_extension": ".py",
   "mimetype": "text/x-python",
   "name": "python",
   "nbconvert_exporter": "python",
   "pygments_lexer": "ipython3",
   "version": "3.7.1"
  }
 },
 "nbformat": 4,
 "nbformat_minor": 2
}
