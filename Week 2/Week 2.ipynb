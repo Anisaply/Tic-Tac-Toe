{
 "cells": [
  {
   "cell_type": "markdown",
   "metadata": {},
   "source": [
    "# Week 2\n",
    "\n",
    "Welcome to Week 2 of Prog Soc!\n",
    "\n",
    "This week we'll be learning about lists and control flow. From now on, you'll be applying your knowledge to create your very own game of Tic-Tac-Toe! As always, please ask any of our tutors for help and discuss amongst yourselves.\n",
    "\n",
    "To run your code, click on the cell you want to run and either press the *Run* button above or press `Ctrl+Enter`.\n",
    "\n",
    "**Remember** - this notebook won't save when you close this tab. It's meant to serve as a self-contained guide to help you *during* the lessons. If you want to make some notes and practice outside of lessons, we recommend you use [**Repl**](https://repl.it/).\n",
    "\n",
    "You can access all the notebooks and resources [here](https://github.com/edi-prog-soc/Tic-Tac-Toe)."
   ]
  },
  {
   "cell_type": "markdown",
   "metadata": {},
   "source": [
    "## Lists\n",
    "\n",
    "A list is a data structure commonly used in Python. A data structure is essentially a collection of data values, that we can access and modify in certain ways. You're probably already familiar with the idea of a list. There are many different kinds of list: a shopping list, a grade list, a TO-DO list, a movie list, etc. In Python, we refer to a list with **square brackets**:\n",
    "\n",
    "```python\n",
    "my_shopping_list = [\"milk\",\"carrots\",\"potatoes\",\"onions\"]\n",
    "```\n",
    "\n",
    "In Python specifically, a list can hold a mixture of *data types* (this may not be the case in other programming languages):\n",
    "\n",
    "```python\n",
    "my_random_list = [0.6,\"hello\",True,False,450,9999999]\n",
    "```\n",
    "\n",
    "Try declaring a list yourself!"
   ]
  },
  {
   "cell_type": "code",
   "execution_count": 1,
   "metadata": {},
   "outputs": [],
   "source": [
    "# Delete this and code! "
   ]
  },
  {
   "cell_type": "markdown",
   "metadata": {},
   "source": [
    "## Built-In Functions for Lists\n",
    "\n",
    "Here are some built-in functions that enhance lists.\n",
    "\n",
    "**append()** adds a new item to the very end of your list.\n",
    "```python\n",
    "List = ['Mathematics', 'chemistry', 1997, 2000] \n",
    "List.append(20544) \n",
    "print(List)\n",
    "Output: ['Mathematics', 'chemistry', 1997, 2000, 20544]\n",
    "```\n",
    "**insert()** adds a new item to a specific part of your list. Keep in mind lists count from 0, so the first item is list item 0.\n",
    "```python\n",
    "List = ['Mathematics', 'chemistry', 1997, 2000] \n",
    "# Insert at index 2 value 10087 \n",
    "List.insert(2,10087)      \n",
    "print(List)\n",
    "Output: ['Mathematics', 'chemistry', 10087, 1997, 2000, 20544]\n",
    "```\n",
    "**extend()** adds (concatenates) a list to another list.\n",
    "```python\n",
    "List1 = [1, 2, 3] \n",
    "List2 = [2, 3, 4, 5] \n",
    "List1.extend(List2)         \n",
    "print(List1) \n",
    "Output: [1, 2, 3, 2, 3, 4, 5]\n",
    "```\n",
    "**sum()** sums up the whole list. You get one guess as to what **max()** and **min()** does.\n",
    "```python\n",
    "List1 = [1, 2, 3]\n",
    "print(sum(List1))\n",
    "Output: 6\n",
    "```\n",
    "**remove()** removes the first copy of a specified element.\n",
    "```python\n",
    "animals = ['cat', 'dog', 'rabbit', 'guinea pig', 'rabbit']\n",
    "animals.remove('rabbit')\n",
    "print(animals)\n",
    "Output: ['cat', 'dog', 'guinea pig', 'rabbit']\n",
    "```\n",
    "**pop()** removes an item by position within the list. Remember that lists count from 0, not 1.\n",
    "```python\n",
    "languages = ['Python', 'Java', 'C++', 'French', 'C']\n",
    "languages.pop(3)\n",
    "print(languages)\n",
    "Output: ['Python', 'Java', 'C++', 'C']\n",
    "```\n",
    "**len()** returns the length of a list.\n",
    "```python\n",
    "list = ['Zoe', 'Aoife', 'Gaby', 'Maria', 'Kate']\n",
    "list_length = len(list)\n",
    "print(list_length)\n",
    "Output: 5\n",
    "```\n",
    "Other relevant functions include **reverse()**, **clear()**, **slice()**, **sort()**, **index()** etc. Just like Excel formulas, there is no reason to memorise all of them. You'll naturally remember the ones that you use frequently.\n",
    "\n",
    "You can try out these functions below!"
   ]
  },
  {
   "cell_type": "code",
   "execution_count": null,
   "metadata": {},
   "outputs": [],
   "source": [
    "# Delete this and code!"
   ]
  },
  {
   "cell_type": "markdown",
   "metadata": {},
   "source": [
    "## Indexing\n",
    "\n",
    "Remember - to access a certain element in a list, use the list name followed by square brackets that contain the **index** of the element you want to access. It's important to remember that in Python **indices begin at 0**. Using the `my_random_list` above,\n",
    "\n",
    "```python\n",
    "first_element = my_random_list[0]\n",
    "third_element = my_random_list[2]\n",
    "```\n",
    "You can also access elements in a list counting from the end using **negative indices**:\n",
    "\n",
    "```python\n",
    "last_element = my_random_list[-1]\n",
    "penultimate_element = my_random_list[-2]\n",
    "```\n",
    "\n",
    "Try accessing some elements of the list you defined above!"
   ]
  },
  {
   "cell_type": "code",
   "execution_count": 2,
   "metadata": {},
   "outputs": [],
   "source": [
    "# Delete this and code! "
   ]
  },
  {
   "cell_type": "markdown",
   "metadata": {},
   "source": [
    "### Assignment\n",
    "\n",
    "Once we know how to refer to elements of a list through indexing, we can change them using the assignment operator `=` just like you would assign any other variable:\n",
    "\n",
    "```python\n",
    "my_random_list[0] = \"goodbye\"\n",
    "print(my_random_list)\n",
    "\n",
    "Output: ['goodbye', 'hello', True, False, 450, 9999999]\n",
    "```\n",
    "\n",
    "Try changing some elements of the list you defined above!"
   ]
  },
  {
   "cell_type": "code",
   "execution_count": 3,
   "metadata": {},
   "outputs": [],
   "source": [
    "# Delete this and code! "
   ]
  },
  {
   "cell_type": "markdown",
   "metadata": {},
   "source": [
    "### Extension - Slicing\n",
    "\n",
    "You now know how access individual elements in a list. What if we want to access multiple elements of a list, i.e a *sublist*? For example, if we want to extract the following list from `my_random_list`,\n",
    "```python\n",
    "['hello', True, False]\n",
    "```\n",
    "we could use *slicing*. Similar to normal indexing, we use the list name followed by square brackets, but this time the brackets contain the **index** of the first element of the desired sublist followed by a colon (:), followed by the **index** of the last element of your the desired sublist.\n",
    "\n",
    "So to get the list above, we could run:\n",
    "\n",
    "```python\n",
    "my_sliced_list = my_random_list[1:4] # Note that the start index is inclusive and the end is exclusive\n",
    "```\n",
    "To slice from the beginning of the list, you can also leave the start index blank, and to end the slice at the end of your list, you can leave the end index blank, e.g.\n",
    "\n",
    "```python\n",
    "my_random_list[:]\n",
    "```\n",
    "would give you the whole of the original list.\n",
    "\n",
    "You can also add a third value, the *step*  inside the square brackets (following another colon) which is the amount you want to *increment* your slice (how many elements you want to skip). For example,\n",
    "\n",
    "```python\n",
    "my_random_list[1:5:2]\n",
    "```\n",
    "would return: `['hello',False]`, as it selects every 2nd element of the slice.\n",
    "\n",
    "To sum up, the slice syntax is:\n",
    "\n",
    "\\begin{equation}\n",
    "\\large\n",
    "list\\_name \\left[start : stop : step \\right]\n",
    "\\end{equation}"
   ]
  },
  {
   "cell_type": "code",
   "execution_count": null,
   "metadata": {},
   "outputs": [],
   "source": [
    "# Delete this and code!"
   ]
  },
  {
   "cell_type": "markdown",
   "metadata": {},
   "source": [
    "## Control Flow\n",
    "\n",
    "### If Statements\n",
    "\n",
    "In the programming world, you can use `if` statements to run code if and only if certain crteria are met. For example, you'll only look for food **if** you're hungry (okay that's a lie), or you lose the game **if** Mario loses all his hearts.\n",
    "\n",
    "Recall from last week **Boolean** statements. These are statements that return `True` or `False`:\n",
    "\n",
    "```python\n",
    "2 < 5\n",
    "Output: true\n",
    "```\n",
    "```python\n",
    "3 > 7\n",
    "Output: false\n",
    "```\n",
    "```python\n",
    "x > 7\n",
    "Output: error\n",
    "```\n",
    "Gotta define x first!\n",
    "```python\n",
    "x = 11\n",
    "x > 10\n",
    "Output: true\n",
    "```\n",
    "```python\n",
    "2 * x < x\n",
    "Output: false\n",
    "```\n",
    "```python\n",
    "type(True)\n",
    "Output: bool\n",
    "```\n",
    "\n",
    "As you can see, an `if` function will return `True` or `False` in a boolean format, meaning it only has two possible states. Some languages output that as `1` and `0` instead.\n",
    "\n",
    "We can put in `if` before any `Boolean` statement to make it a *conditional* statement; the code contained within the statement will only run **if** the Boolean statement is satisfied. If the first condition is not met, we can follow-up with an `elif`. `elif` is another `if` statement that will only trigger if the previous condition is not met, and its own condition *is*. Finally, we can use an `else` statement as a catch-all for any other cases that do not meet any of the previous conditions. This is all illustrated in the example below:\n",
    "\n",
    "```python\n",
    "x = 5\n",
    "if x > 4:\n",
    "    print(\"I'm greater than 4!\")\n",
    "elif x > 1:\n",
    "    print(\"I'm greater than 1, but not greater than 4\")\n",
    "else:\n",
    "    print(\"I'm neither greater than 4, nor greater than 1\")\n",
    "```\n",
    "\n",
    "```\n",
    "(the if statement, if it's true run this part, if false run this part)\n",
    " ```\n",
    "Try using some `if` statements yourself!"
   ]
  },
  {
   "cell_type": "code",
   "execution_count": null,
   "metadata": {},
   "outputs": [],
   "source": [
    "# Delete this and code!"
   ]
  },
  {
   "cell_type": "markdown",
   "metadata": {},
   "source": [
    "### Loops\n",
    "\n",
    "We can use a loop to **iterate** over a given sequence, or repeat a block of code a certain number of times. There are\n",
    "two types of loop in python: the `for` loop, and the `while` loop. \n",
    "\n",
    "#### While loop\n",
    "\n",
    "Let's start with the `while` loop. Any code within this loop will repeat until a certain condition becomes `False`. We can think of this as an endless `if` statement which keeps looping until its condition is no longer satisfied. For instance, try and run the following code:\n",
    "\n",
    "```python\n",
    "x = 0\n",
    "\n",
    "while x < 10:\n",
    "    print(\"I'm looping until x is no longer less than 10. Right now, x = {}\".format(x))\n",
    "    x += 1\n",
    "``` \n",
    "\n",
    "Remember the `:` at the end of the `while` statement, and remember that we need to increment x by 1 at the end of each iteration otherwise the loop will go on forever! If you don't believe me, remove the `x += 1` line and see what happens!"
   ]
  },
  {
   "cell_type": "code",
   "execution_count": 4,
   "metadata": {
    "scrolled": false
   },
   "outputs": [],
   "source": [
    "# Delete this and code! "
   ]
  },
  {
   "cell_type": "markdown",
   "metadata": {},
   "source": [
    "Try defining a `while` loop which prints your name 5 times:"
   ]
  },
  {
   "cell_type": "code",
   "execution_count": 5,
   "metadata": {},
   "outputs": [],
   "source": [
    "# Delete this and code! "
   ]
  },
  {
   "cell_type": "markdown",
   "metadata": {},
   "source": [
    "#### For loop\n",
    "\n",
    "A `for` loop is slightly different to its `while` counterpart. In a `for` loop, we **predefine** the number of times we want to run the loop. We can achieve the same result above with a `for` loop like so:\n",
    "\n",
    "```python\n",
    "for x in range(10):\n",
    "    print(\"I'm looping 10 times. Right now, x = {}\".format(x))\n",
    "```\n",
    "\n",
    "Note that in a `for` loop the value of x is incremented automatically, as opposed to the `while` loop. \n",
    "\n",
    "You can copy-paste this code below, and see what the output is. Then, try defining a `for` loop which prints the numbers from 1 to 100:"
   ]
  },
  {
   "cell_type": "code",
   "execution_count": 6,
   "metadata": {},
   "outputs": [],
   "source": [
    "# Delete this and code! "
   ]
  },
  {
   "cell_type": "markdown",
   "metadata": {},
   "source": [
    "We can also use a `for` loop to inspect a given sequence. For example, we can loop through a `list` to inspect its elements:\n",
    "\n",
    "```python\n",
    "my_list = [i for i in range(100)] # This is a list comprehension. Don't worry about this for now. This basically just creates a list containing all the numbers from 0 to 99.\n",
    "\n",
    "for i in my_list:\n",
    "    print(i)\n",
    "    \n",
    "```\n",
    "\n",
    "Copy-paste this code in the cell below:"
   ]
  },
  {
   "cell_type": "code",
   "execution_count": 7,
   "metadata": {},
   "outputs": [],
   "source": [
    "# Delete this and code! "
   ]
  },
  {
   "cell_type": "markdown",
   "metadata": {},
   "source": [
    "We can equally loop over characters in a `String`:\n",
    "\n",
    "```python\n",
    "my_string = \"Hello World :)\"\n",
    "for i in my_string:\n",
    "    print(i)\n",
    "```\n",
    "\n",
    "Try it:"
   ]
  },
  {
   "cell_type": "code",
   "execution_count": 8,
   "metadata": {},
   "outputs": [],
   "source": [
    "# Delete this and code! "
   ]
  },
  {
   "cell_type": "markdown",
   "metadata": {},
   "source": [
    "Remember, you can put whatever you want in a `for` loop, even conditionals:\n",
    "\n",
    "```python\n",
    "for i in my_list:\n",
    "    if i < 50:\n",
    "        print(i)\n",
    "    else:\n",
    "        print(\"Too high :(\")\n",
    "```\n",
    "\n",
    "What will the output of this loop be? Try guessing before copy-pasting it in the cell below. "
   ]
  },
  {
   "cell_type": "code",
   "execution_count": 9,
   "metadata": {},
   "outputs": [],
   "source": [
    "# Delete this and code!"
   ]
  },
  {
   "cell_type": "markdown",
   "metadata": {},
   "source": [
    "## Exercises"
   ]
  },
  {
   "cell_type": "markdown",
   "metadata": {},
   "source": [
    "### Counting Characters\n",
    "Print the number of times the character `'a'` appears in the string (text): `'supercalifragilisticexpialidocious'`."
   ]
  },
  {
   "cell_type": "code",
   "execution_count": null,
   "metadata": {},
   "outputs": [],
   "source": [
    "# Delete this and code!"
   ]
  },
  {
   "cell_type": "markdown",
   "metadata": {},
   "source": [
    "### FizzBuzz\n",
    "\n",
    "Print out the numbers from 1-100, but if the number is a multiple of 3, print `'fizz'` instead of the number; if it is a multiple of 5, print `'buzz'`, and if it is a multiple of both 3 and 5, print `'fizzbuzz'`."
   ]
  },
  {
   "cell_type": "code",
   "execution_count": null,
   "metadata": {},
   "outputs": [],
   "source": [
    "# Delete this and code!"
   ]
  },
  {
   "cell_type": "markdown",
   "metadata": {},
   "source": [
    "### Square List\n",
    "Create a list of the first 20 square numbers. Print the elements of this list which are odd."
   ]
  },
  {
   "cell_type": "code",
   "execution_count": null,
   "metadata": {},
   "outputs": [],
   "source": [
    "# Delete this and code!"
   ]
  },
  {
   "cell_type": "markdown",
   "metadata": {},
   "source": [
    "## Game\n",
    "\n",
    "We can now apply our knowlege of lists, control flow and loops to start making our simple Tic-Tac-Toe game! We'll start slow this week. We have a list containing 9 zeros:\n",
    "\n",
    "```python\n",
    "board = [0,0,0,0,0,0,0,0,0]\n",
    "```\n",
    "\n",
    "Let's try changing the third zero to an `X`, so that the output is:\n",
    "\n",
    "```python\n",
    "[0,0,\"X\",0,0,0,0,0,0]\n",
    "```\n",
    "\n",
    "Once we're comfortable with manipulating the elements/items in our list, turn it into a 2-D 3x3 grid and you'll have reached Checkpoint 1!  **Hint**: A list can contain another list. The output should be:\n",
    "\n",
    "```python\n",
    "[0, 0, 0]\n",
    "[0, 0, 0]\n",
    "[0, 0, 0]\n",
    "```\n",
    "\n",
    "**Extension** - Place an `X` somewhere on this 2-D grid. If you're stuck, ask one of the tutors! "
   ]
  },
  {
   "cell_type": "markdown",
   "metadata": {},
   "source": [
    "## Further Exercises"
   ]
  },
  {
   "cell_type": "markdown",
   "metadata": {},
   "source": [
    "### Infinite Road\n",
    "\n",
    "A car can occupy any of 10 'positions' on a straight road. For example, where *C* represents a car, the cars here are at position 4 & 9:\n",
    "<br><br><br>\n",
    "\\begin{equation}\n",
    "\\large\n",
    "|-|-|-|C|-|-|-|-|C|-|\n",
    "\\end{equation}\n",
    "<br><br><br>\n",
    "After each cycle, the cars all move forward 1 cell. If a car reaches the end of the road, it *wraps around* back to the front again. For example, after 2 cycles, the road above becomes:\n",
    "<br><br><br>\n",
    "\\begin{equation}\n",
    "\\large\n",
    "|C|-|-|-|-|C|-|-|-|-|\n",
    "\\end{equation}\n",
    "<br><br><br>\n",
    "Represent your road as a list where `0` is an empty position and `1` is a car. Now update your road for 10 cycles, printing the road after each one. You can choose the initial number of cars and their starting positions."
   ]
  },
  {
   "cell_type": "code",
   "execution_count": null,
   "metadata": {},
   "outputs": [],
   "source": [
    "# Delete this and code!"
   ]
  },
  {
   "cell_type": "markdown",
   "metadata": {},
   "source": [
    "### Simulating Radioactivity *(Challenging)*\n",
    "\n",
    "Radioactive decay is a random process - this means that while we can find a *probability* that a certain nucleus will decay in a given time $\\Delta t$, there is no guarantee it ever will. You are given that the probability that an undecayed nucleus will decay is:\n",
    "\n",
    "\\begin{equation}\n",
    "\\Pr (decay) = - \\lambda \\Delta t,\n",
    "\\end{equation}\n",
    "\n",
    "where $\\lambda$ is a constant and $\\Delta t$ is a small amount of time (you are given both in the code). Your task is to create a list of 50 elements which each represent an undecayed atom (nucleus) - let a $0$ represent an undecayed nucleus and a $1$ represent a decayed one. Your code should now start randomly decaying nuclei until half the original number remain as follows:\n",
    "\n",
    "- Keep looping through your atoms list - a loop represents $1$ small timestep $\\Delta t$.\n",
    "- If (**Hint!!**) you come across an undecayed nucleus, decide whether to decay it using below.\n",
    "- To decide whether to decay a nucleus, compare a random number (see code) with the calculated decay probability (above). If it is smaller, decay the nucleus, else do not.\n",
    "- When half the original number of nuclei are left, print out the total 'simulated' time this took (**Hint** - Remember each loop corresponds to one timestep)."
   ]
  },
  {
   "cell_type": "code",
   "execution_count": 3,
   "metadata": {},
   "outputs": [],
   "source": [
    "# IGNORE (For Now :))\n",
    "import random\n",
    "def randomNumber():\n",
    "    return random.random()\n",
    "\n",
    "# Here are the constants for you to use:\n",
    "\n",
    "lamda = -0.02775\n",
    "delta_t = 0.01\n",
    "\n",
    "# Write your code below!\n",
    "\n",
    "# To generate a random number and save it as a variable, say \"x\", write: x = randomNumber()"
   ]
  }
 ],
 "metadata": {
  "kernelspec": {
   "display_name": "Python 3",
   "language": "python",
   "name": "python3"
  },
  "language_info": {
   "codemirror_mode": {
    "name": "ipython",
    "version": 3
   },
   "file_extension": ".py",
   "mimetype": "text/x-python",
   "name": "python",
   "nbconvert_exporter": "python",
   "pygments_lexer": "ipython3",
   "version": "3.7.2"
  }
 },
 "nbformat": 4,
 "nbformat_minor": 2
}
