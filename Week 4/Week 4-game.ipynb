{
 "cells": [
  {
   "cell_type": "markdown",
   "metadata": {},
   "source": [
    "# Game\n",
    "\n",
    "We're going to use our knowledge of classes to play our game on different boards! Refactor your code into a `Board` class, where the constructor will take a list containing 3 nested lists - this will be our board!\n",
    "\n",
    "Write a `pr()` function which will print each row on 3 separate lines (refer to Week 2 if you're stuck!). \n",
    "\n",
    "Ultimately, we want to be able to instatiate our `Board` class like this:\n",
    "\n",
    "```python\n",
    "line_board = Board([[\"11\",\"12\",\"13\"],[\"21\",\"22\",\"23\"],[\"31\",\"32\",\"33\"]])\n",
    "number_board = Board([[\"— \",\"— \",\"— \"],[\"— \",\"— \",\"— \"],[\"— \",\"— \",\"— \"]])\n",
    "```\n",
    "\n",
    "Feel free to think of a different type of board and use that instead. Have fun!"
   ]
  },
  {
   "cell_type": "code",
   "execution_count": null,
   "metadata": {},
   "outputs": [],
   "source": [
    "# TODO"
   ]
  }
 ],
 "metadata": {
  "kernelspec": {
   "display_name": "Python 3",
   "language": "python",
   "name": "python3"
  },
  "language_info": {
   "codemirror_mode": {
    "name": "ipython",
    "version": 3
   },
   "file_extension": ".py",
   "mimetype": "text/x-python",
   "name": "python",
   "nbconvert_exporter": "python",
   "pygments_lexer": "ipython3",
   "version": "3.7.1"
  }
 },
 "nbformat": 4,
 "nbformat_minor": 2
}
