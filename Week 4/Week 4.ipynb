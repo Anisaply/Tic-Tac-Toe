{
 "cells": [
  {
   "cell_type": "markdown",
   "metadata": {},
   "source": [
    "# Week 4\n",
    "\n",
    "Welcome to Week 4 of Prog Soc!\n",
    "\n",
    "This week we'll be learning about objects and classes. As always, please ask any of our tutors for help and discuss amongst yourselves.\n",
    "\n",
    "To run your code, click on the cell you want to run and either press the *Run* button above or press `Ctrl+Enter`.\n",
    "\n",
    "**Remember** - this notebook won't save when you close this tab. It's meant to serve as a self-contained guide to help you *during* the lessons. If you want to make some notes and practice outside of lessons, we recommend you use [**Repl**](https://repl.it/)."
   ]
  },
  {
   "cell_type": "markdown",
   "metadata": {},
   "source": [
    "## Classes\n",
    "\n",
    "Classes are a way of grouping functionality and data together in one block of code. There is a style of programming known as **Object Oriented Programming** (OOP), and as the name suggests 'Objects' are at the root of OOP. Just as there are objects in real life like cars and tables, we can create objects in code too!\n",
    "\n",
    "So what is an object? We can think of a class as the **blueprint** for an object. This blueprint will encapsulate the general properties of the object, and each time we create, or *instatiate* an object from that blueprint, we'll be able to specify the properties of that object. \n",
    "\n",
    "These 'properties' of an object are also known as *attributes*. A car for example would have a top speed and acceleration, while a person would have a name and age. It is up to you to think of the attributes that are most useful to the objectives of your program. For instance, if you were designing a database to keep track of students in a school, you would likely focus on creating object to store their name, age, and average mark rather than other (less relevant) attributes like their eye colour.\n",
    "\n",
    "To create an object, simply write `class` followed by the name of the class. Here's some example code for a 'Student' object, bundled in the 'Student' class:\n",
    "\n",
    "```python\n",
    "class Student:\n",
    "    \n",
    "    name = ''\n",
    "    age = 0\n",
    "    \n",
    "    def __init__(self, n, a):\n",
    "        self.name = n\n",
    "        self.age = a\n",
    "       \n",
    "```\n",
    "\n",
    "In this code, we have created a blueprint for a general 'Student' object. In this case, a Student will have a name and age, which are initialised to '' and 0 respectively. But what about the **\\_\\_init\\_\\_()** function at the bottom of the class declaration? That's the **constructor** for the class. Here, we can specify what we want the attributes (in our case name and age) of our Student object to be. The constructor is passed 3 arguments: `self` (don't worry about this for now), `n`, and `a`. We then **assign** the values passed into the constructor to our object's attributes.\n",
    "\n",
    "So how do we actually create, or **instantiate** an object? We do it like this:\n",
    "\n",
    "```python\n",
    "Student1 = Student('David Bowie', 15)\n",
    "```\n",
    "\n",
    "Here we have created a Student object with the name 'David Bowie' and age 15, and stored that in the variable Student1. Notice that the brackets after Student is a call to the constructor of the class, where the first argument corresponds to `n`, and the second to `a`.\n",
    "\n",
    "Let's instantiate another Student object!\n",
    "\n",
    "```python\n",
    "Student2 = Student('Freddie Mercury', 25)\n",
    "``` \n",
    "\n",
    "To access the attributes of an object, simply write `object_variable.attribute`. In our example, if we wanted to access the name of Student1, we would write `Student1.name`. You can think of it like an apostrophe in English e.g. Mark**'s** name = `Mark.name`. As a mini-exercise, copy-paste the Student code in the cell below, instantiate a number of students and access their attributes!"
   ]
  },
  {
   "cell_type": "code",
   "execution_count": 1,
   "metadata": {},
   "outputs": [],
   "source": [
    "# TODO"
   ]
  },
  {
   "cell_type": "markdown",
   "metadata": {},
   "source": [
    "## A quick note on `self`"
   ]
  },
  {
   "cell_type": "markdown",
   "metadata": {},
   "source": [
    "`self` is a keyword that allows us to refer to the attributes and functions of a class **from within** that class. A good way to learn why this is useful is to try and add functions, or *methods*, to our classes. Taking our Student1 object from earlier, we can add new methods to the class in order to manipulate its attributes. Here's an example:\n",
    "\n",
    "```python\n",
    "class Student:\n",
    "    \n",
    "    name = ''\n",
    "    age = 0\n",
    "    \n",
    "    def __init__(self, n, a):\n",
    "        self.name = n\n",
    "        self.age = a\n",
    "        \n",
    "    def add_10_to_age(self):\n",
    "        self.age += 10      \n",
    "```\n",
    "\n",
    "The `add_10_to_age()` method (as the name suggests) adds 10 to the age attribute of the Student. By writing `self.age` we are essentially writing the same thing as `Student.age`, but from within the class. \n",
    "\n",
    "Assuming we've instantiated Student1, we can call the class method we just wrote the same way we would access an attribute: `Student1.add_10_to_age()`. If we access the Student1's age now, it will have increased by 10! Notice that in the class, we pass `self` as an argument to the method, but we don't pass anything when we call it outside the class! This is just how Python works; `self` is a default argument of all the methods/functions in the class (including the constructor), so don't forget to include it when writing your own methods. \n",
    "\n",
    "`self` can sometimes be confusing at the beginning, so don't hesitate to ask our tutors if you have any questions!\n",
    "\n",
    "Copy-paste the code in this cell and add your own methods to the class!  "
   ]
  },
  {
   "cell_type": "code",
   "execution_count": 2,
   "metadata": {},
   "outputs": [],
   "source": [
    "# TODO"
   ]
  }
 ],
 "metadata": {
  "kernelspec": {
   "display_name": "Python 3",
   "language": "python",
   "name": "python3"
  },
  "language_info": {
   "codemirror_mode": {
    "name": "ipython",
    "version": 3
   },
   "file_extension": ".py",
   "mimetype": "text/x-python",
   "name": "python",
   "nbconvert_exporter": "python",
   "pygments_lexer": "ipython3",
   "version": "3.7.4"
  }
 },
 "nbformat": 4,
 "nbformat_minor": 4
}
