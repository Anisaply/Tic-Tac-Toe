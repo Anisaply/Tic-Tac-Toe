{
 "cells": [
  {
   "cell_type": "markdown",
   "metadata": {},
   "source": [
    "# Week 4\n",
    "\n",
    "Welcome to Week 4 of Prog Soc!\n",
    "\n",
    "This week we'll be learning about objects and classes. As always, please ask any of our tutors for help and discuss amongst yourselves.\n",
    "\n",
    "To run your code, click on the cell you want to run and either press the *Run* button above or press `Ctrl+Enter`.\n",
    "\n",
    "**Remember** - this notebook won't save when you close this tab. It's meant to serve as a self-contained guide to help you *during* the lessons. If you want to make some notes and practice outside of lessons, we recommend you use [**Repl**](https://repl.it/)."
   ]
  },
  {
   "cell_type": "code",
   "execution_count": null,
   "metadata": {},
   "outputs": [],
   "source": [
    "## "
   ]
  }
 ],
 "metadata": {
  "kernelspec": {
   "display_name": "Python 3",
   "language": "python",
   "name": "python3"
  },
  "language_info": {
   "codemirror_mode": {
    "name": "ipython",
    "version": 3
   },
   "file_extension": ".py",
   "mimetype": "text/x-python",
   "name": "python",
   "nbconvert_exporter": "python",
   "pygments_lexer": "ipython3",
   "version": "3.7.4"
  }
 },
 "nbformat": 4,
 "nbformat_minor": 4
}
