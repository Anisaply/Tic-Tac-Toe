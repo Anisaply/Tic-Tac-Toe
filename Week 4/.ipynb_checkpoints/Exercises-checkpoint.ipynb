{
 "cells": [
  {
   "cell_type": "markdown",
   "metadata": {},
   "source": [
    "# Exercises"
   ]
  },
  {
   "cell_type": "markdown",
   "metadata": {},
   "source": [
    "Create a class `Car`. Give it 3 class variables, `fuel`, `range` and `mpg`, the values of which should be set when you instantiate the class, i.e. when you create an object of class `Car`. **Hint** - Look at the `__init__()` method again to set up class variables. Create an object of your class and give it a `fuel` of 0, a `range` of 0 and an `mpg` of 45."
   ]
  },
  {
   "cell_type": "code",
   "execution_count": null,
   "metadata": {},
   "outputs": [],
   "source": []
  },
  {
   "cell_type": "markdown",
   "metadata": {},
   "source": [
    "Add a method to your class `refuel()`. It should take in a number of gallons of fuel as an argument and increment the `fuel` variable by that much. Also increment the `range` by the appropriate amount (think about what the `mpg` variable is)."
   ]
  },
  {
   "cell_type": "code",
   "execution_count": null,
   "metadata": {},
   "outputs": [],
   "source": []
  },
  {
   "cell_type": "markdown",
   "metadata": {},
   "source": [
    "Now add another method `drive()`. This should take in a distance in miles and print out the number of fuel stops required to arrive at the destination. "
   ]
  },
  {
   "cell_type": "code",
   "execution_count": null,
   "metadata": {},
   "outputs": [],
   "source": []
  },
  {
   "cell_type": "markdown",
   "metadata": {},
   "source": [
    "Your task is to write some code for a library to help keep track of their books. You are free to use whatever classes and structure you wish. Your code must:\n",
    "\n",
    "- Make it easy for the library to search for all books of a particular genre, say 'crime'.\n",
    "- Track the status of each book, 'available' or 'loaned' and provide an easy way of changing the status of each book.\n",
    "- Have a search by name feature that should return the genre and status given the title of the book.\n",
    "- Have some way of adding books to the library catalogue."
   ]
  },
  {
   "cell_type": "code",
   "execution_count": null,
   "metadata": {},
   "outputs": [],
   "source": []
  }
 ],
 "metadata": {
  "kernelspec": {
   "display_name": "Python 3",
   "language": "python",
   "name": "python3"
  },
  "language_info": {
   "codemirror_mode": {
    "name": "ipython",
    "version": 3
   },
   "file_extension": ".py",
   "mimetype": "text/x-python",
   "name": "python",
   "nbconvert_exporter": "python",
   "pygments_lexer": "ipython3",
   "version": "3.7.4"
  }
 },
 "nbformat": 4,
 "nbformat_minor": 4
}
