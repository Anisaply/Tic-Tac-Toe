{
 "cells": [
  {
   "cell_type": "markdown",
   "metadata": {},
   "source": [
    "# Exercises"
   ]
  },
  {
   "cell_type": "markdown",
   "metadata": {},
   "source": [
    "Create a class `Car`. Give it 3 class variables, `fuel`, `range` and `mpg`, the values of which should be set when you instantiate the class, i.e. when you create an object of class `Car`. **Hint** - Look at the `__init__()` method again to set up class variables. Create an object of your class and give it a `fuel` of 0, a `range` of 0 and an `mpg` of 45."
   ]
  },
  {
   "cell_type": "code",
   "execution_count": 12,
   "metadata": {},
   "outputs": [
    {
     "name": "stdout",
     "output_type": "stream",
     "text": [
      "0 0\n",
      "10 450\n",
      "Need 1.1111111111111107 gallons of extra fuel to complete the journey\n",
      "10 450\n"
     ]
    }
   ],
   "source": [
    "class Car:\n",
    "    \n",
    "    def __init__(self,fuel,mileage,mpg):\n",
    "        self.range = mileage # Only called mileage because range is a reserved word!\n",
    "        self.fuel = fuel\n",
    "        self.mpg = mpg\n",
    "        \n",
    "    def refuel(self,amount):\n",
    "        self.fuel += amount\n",
    "        self.range += amount*self.mpg\n",
    "    \n",
    "    def drive(self,distance):\n",
    "        if distance <= self.range:\n",
    "            self.range -= distance\n",
    "            self.fuel -= distance/self.mpg\n",
    "        else:\n",
    "            fuel_deficit = distance/self.mpg - self.fuel\n",
    "            print(f\"Need {fuel_deficit} gallons of extra fuel to complete the journey\")\n",
    "\n",
    "# A short demo\n",
    "my_car = Car(0,0,45)\n",
    "print(my_car.fuel,my_car.range)\n",
    "my_car.refuel(10)\n",
    "print(my_car.fuel,my_car.range)\n",
    "my_car.drive(500)\n",
    "print(my_car.fuel,my_car.range)"
   ]
  },
  {
   "cell_type": "markdown",
   "metadata": {},
   "source": [
    "Add a method to your class `refuel()`. It should take in a number of gallons of fuel as an argument and increment the `fuel` variable by that much. Also increment the `range` by the appropriate amount (think about what the `mpg` variable is)."
   ]
  },
  {
   "cell_type": "code",
   "execution_count": null,
   "metadata": {},
   "outputs": [],
   "source": []
  },
  {
   "cell_type": "markdown",
   "metadata": {},
   "source": [
    "Now add another method `drive()`. This should take in a distance in miles and update the range and fuel properties of the car appropriately after driving the given distance **or** print \"Need $x$ gallons of extra fuel to complete the journey\", replacing $x$ with the appropriate value."
   ]
  },
  {
   "cell_type": "code",
   "execution_count": null,
   "metadata": {},
   "outputs": [],
   "source": []
  },
  {
   "cell_type": "markdown",
   "metadata": {},
   "source": [
    "Your task is to write some code for a library to help keep track of their books. You are free to use whatever classes and structure you wish. Your code must:\n",
    "\n",
    "- Make it easy for the library to search for all books of a particular genre, say 'crime'.\n",
    "- Track the status of each book, 'available' or 'loaned' and provide an easy way of changing the status of each book.\n",
    "- Have a search by name feature that should return the genre and status given the title of the book.\n",
    "- Have some way of adding books to the library catalogue."
   ]
  },
  {
   "cell_type": "code",
   "execution_count": 22,
   "metadata": {},
   "outputs": [
    {
     "name": "stdout",
     "output_type": "stream",
     "text": [
      "Title : A Tale of Two Cities    Status : available\n",
      "Title : To Kill a Mockingbird    Status : available\n",
      "A Brief History of Time - Genre : Science    Status : loaned\n"
     ]
    }
   ],
   "source": [
    "# AN implementation - there is no right answer!\n",
    "\n",
    "class Book:\n",
    "    \n",
    "    def __init__(self,title,genre,status=\"available\"):\n",
    "        # We can provide a default value to any argument so that if a \n",
    "        # value for this argument is not provided, the defualt is used\n",
    "        self.title = title\n",
    "        self.genre = genre\n",
    "        self.status = status\n",
    "    \n",
    "    def changeStatus(self,new_status):\n",
    "        if new_status == self.status:\n",
    "            print(f\"Book {self.title} is already {self.status}!\")\n",
    "        else:\n",
    "            self.status = new_status\n",
    "    \n",
    "class Library:\n",
    "    \n",
    "    def __init__(self,name,catalog = []):\n",
    "        self.catalog = catalog\n",
    "        self.name = name # Not really necessary with regards to the question but seems nice :)\n",
    "        \n",
    "    def searchByGenre(self,genre):\n",
    "        search_result = []\n",
    "        for book in self.catalog:\n",
    "            # Remember each 'book' is an object of the Book class\n",
    "            if book.genre == genre:\n",
    "                search_result.append(book)\n",
    "        for book in search_result:\n",
    "            print(f\"Title : {book.title}    Status : {book.status}\")\n",
    "        if len(search_result) == 0:\n",
    "            print(f\"No books of genre {genre} found\")\n",
    "            \n",
    "    def changeBookStatus(self,title,new_status):\n",
    "        # We assume the title is sufficient to identify the book uniquely for now\n",
    "        for book in self.catalog:\n",
    "            if book.title == title:\n",
    "                book.changeStatus(new_status)\n",
    "                return\n",
    "        print(f\"No such book {name} found\")\n",
    "            \n",
    "    def searchByName(self,name):\n",
    "        for book in self.catalog:\n",
    "            if book.title == name:\n",
    "                print(f\"{name} - Genre : {book.genre}    Status : {book.status}\")\n",
    "                return\n",
    "        print(f\"No such book {name} found\")\n",
    "        \n",
    "    def addBook(self,book_title,book_genre,book_availability=\"available\"):\n",
    "        self.catalog.append(Book(book_title,book_genre,book_availability))\n",
    "                \n",
    "# A short demo            \n",
    "main_library = Library(\"Main Library\")\n",
    "main_library.addBook(\"A Tale of Two Cities\",\"Historical Fiction\")\n",
    "main_library.addBook(\"The Merry Wives of Windsor\",\"Comedy\")\n",
    "main_library.addBook(\"A Brief History of Time\",\"Science\")\n",
    "main_library.addBook(\"To Kill a Mockingbird\",\"Historical Fiction\")\n",
    "\n",
    "main_library.searchByGenre(\"Historical Fiction\")\n",
    "main_library.changeBookStatus(\"A Brief History of Time\",\"loaned\")\n",
    "main_library.searchByName(\"A Brief History of Time\")\n"
   ]
  }
 ],
 "metadata": {
  "kernelspec": {
   "display_name": "Python 3",
   "language": "python",
   "name": "python3"
  },
  "language_info": {
   "codemirror_mode": {
    "name": "ipython",
    "version": 3
   },
   "file_extension": ".py",
   "mimetype": "text/x-python",
   "name": "python",
   "nbconvert_exporter": "python",
   "pygments_lexer": "ipython3",
   "version": "3.7.4"
  }
 },
 "nbformat": 4,
 "nbformat_minor": 4
}
