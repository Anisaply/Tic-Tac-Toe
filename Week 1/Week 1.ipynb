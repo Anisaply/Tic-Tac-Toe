{
 "cells": [
  {
   "cell_type": "markdown",
   "metadata": {},
   "source": [
    "# Week 1\n",
    "\n",
    "Welcome to the first semester of Prog Soc!\n",
    "\n",
    "This week we'll be learning about basic operations, variables and types. From next week, you'll be applying your knowledge to create your very own game of Tic-Tac-Toe! As always, please ask any of our tutors for help and discuss amongst yourselves.\n",
    "\n",
    "To run your code, click on the cell you want to run and either press the *Run* button above or press `Ctrl+Enter`.\n",
    "\n",
    "**Remember** - this notebook won't save when you close this tab. It's meant to serve as a self-contained guide to help you *during* the lessons. If you want to make some notes and practice outside of lessons, we recommend you use [**Repl**](https://repl.it/). "
   ]
  },
  {
   "cell_type": "markdown",
   "metadata": {},
   "source": [
    "## Basic Operations\n",
    "\n",
    "Recall that you can use the computer (in this case Python) as a calculator. Try evaluating some basic arithmetic expressions yourself. Some examples you could try are:\n",
    "```python\n",
    "1+1\n",
    "3*3\n",
    "2-2\n",
    "272/34\n",
    "1567**3\n",
    "10%2  #Remember that the % operator gives you the remainder of the division.\n",
    "```\n"
   ]
  },
  {
   "cell_type": "code",
   "execution_count": 1,
   "metadata": {},
   "outputs": [],
   "source": [
    "#Add your code here."
   ]
  },
  {
   "cell_type": "markdown",
   "metadata": {},
   "source": [
    "## Variables\n",
    "You can store any value in a variable, then use it or change its value later on in the program. For example:\n",
    "\n",
    "```python\n",
    "x = 5\n",
    "y = 3\n",
    "z = x+y\n",
    "```\n",
    "\n",
    "What is the value of z?\n",
    "\n",
    "You can also change (redefine) a certain variable:\n",
    "\n",
    "```python\n",
    "a = 5 # The value of a is 5\n",
    "a = 6 # The value of a is now 6\n",
    "a = a + 2 # What is the value of a now?\n",
    "\n",
    "# The statement above actually has a shorthand:\n",
    "a += 2\n",
    "```\n",
    "\n",
    "Try defining and changing some variables yourself!"
   ]
  },
  {
   "cell_type": "code",
   "execution_count": 2,
   "metadata": {},
   "outputs": [],
   "source": [
    "#Add your code here."
   ]
  },
  {
   "cell_type": "markdown",
   "metadata": {},
   "source": [
    "## Types\n",
    "\n",
    "There are several **primitive** (basic) **types** of data in any programming language. You've already encountered the `int` (short for integer) and `str` (short for string) types. There are two more very frequently used types: booleans (`True or False`) and floating point numbers (`float`) such as 3.14.  "
   ]
  },
  {
   "cell_type": "code",
   "execution_count": 3,
   "metadata": {},
   "outputs": [],
   "source": [
    "#Add your code here."
   ]
  },
  {
   "cell_type": "markdown",
   "metadata": {},
   "source": [
    "## Some more operations -  comparisons\n",
    "\n",
    "Some operators are not used for arithmetic calculations, but can be helpful for comparing two *numerical* values i.e. whether one is bigger, smaller or equal to another. For example:\n",
    "\n",
    "```python\n",
    "4 > 2\n",
    "11/2 <= 5-3\n",
    "23.5 == 23.5\n",
    "```\n",
    "\n",
    "These will return a `boolean` result. Can you guess what the result will be in each case? Try it yourself, and come up with your own examples!"
   ]
  },
  {
   "cell_type": "code",
   "execution_count": 4,
   "metadata": {},
   "outputs": [],
   "source": [
    "#Add your code here."
   ]
  },
  {
   "cell_type": "markdown",
   "metadata": {},
   "source": [
    "## Printing\n",
    "\n",
    "The `print` function is very useful for displaying the results of your code to the screen for you to see. Up to now the interactive notebook has been printing the results for you implicitly, but you can still use the command *explicitly*. To print something to the screen, put it inside the parantheses in `print()`:\n",
    "\n",
    "```python\n",
    "print(5>2)\n",
    "```\n",
    "\n",
    "If you want to print a string like the famous \"Hello World\", make sure you put quotation marks around the text: \n",
    "\n",
    "```python\n",
    "print(\"Hello World\")\n",
    "```  "
   ]
  },
  {
   "cell_type": "code",
   "execution_count": 5,
   "metadata": {},
   "outputs": [],
   "source": [
    "#Add your code here."
   ]
  },
  {
   "cell_type": "markdown",
   "metadata": {},
   "source": [
    "## Exercises"
   ]
  },
  {
   "cell_type": "markdown",
   "metadata": {},
   "source": [
    "### Basic operations\n",
    "\n",
    "Calculate the mean of the following dataset (without using the math module!). Remember to use parantheses like you would in a calculator:\n",
    "\n",
    "```python\n",
    "[0.5, 0.4, 45.87, 46, 14.98]\n",
    "```"
   ]
  },
  {
   "cell_type": "code",
   "execution_count": 9,
   "metadata": {},
   "outputs": [],
   "source": [
    "#Add your code here."
   ]
  },
  {
   "cell_type": "markdown",
   "metadata": {},
   "source": [
    "John had a great dinner at the Balmoral, and wishes to pay a 15% tip on top of his bill. Print the total amount that John will pay. Define the variable `bill` to be whatever number you want, and store the total amount in a `total` variable."
   ]
  },
  {
   "cell_type": "code",
   "execution_count": 1,
   "metadata": {},
   "outputs": [],
   "source": [
    "#Add your code here."
   ]
  },
  {
   "cell_type": "markdown",
   "metadata": {},
   "source": [
    "A food company wants to ship a total of 25987 oranges to its consumers. Oranges are packed in crates of 23 apiece. How many crates are required? Assuming that only full crates can be shipped out, will there be some oranges that can't be shipped today? \n",
    "\n",
    "*Hint* - To round a number down to the nearest integer (whole number), place the value within `int()` e.g. `int(4.5)` becomes 4.  "
   ]
  },
  {
   "cell_type": "code",
   "execution_count": 7,
   "metadata": {},
   "outputs": [],
   "source": [
    "#Add your code here."
   ]
  },
  {
   "cell_type": "markdown",
   "metadata": {},
   "source": [
    "## Extension - fancy printing\n",
    "\n",
    "Ask our tutors about `format()`!"
   ]
  },
  {
   "cell_type": "code",
   "execution_count": null,
   "metadata": {},
   "outputs": [],
   "source": [
    "#Add your code here."
   ]
  }
 ],
 "metadata": {
  "kernelspec": {
   "display_name": "Python 3",
   "language": "python",
   "name": "python3"
  },
  "language_info": {
   "codemirror_mode": {
    "name": "ipython",
    "version": 3
   },
   "file_extension": ".py",
   "mimetype": "text/x-python",
   "name": "python",
   "nbconvert_exporter": "python",
   "pygments_lexer": "ipython3",
   "version": "3.6.8"
  }
 },
 "nbformat": 4,
 "nbformat_minor": 2
}
