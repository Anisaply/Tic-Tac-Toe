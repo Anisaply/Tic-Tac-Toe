{
 "cells": [
  {
   "cell_type": "markdown",
   "metadata": {},
   "source": [
    "# Week 2\n",
    "\n",
    "Welcome to Week 2 of Prog Soc!\n",
    "\n",
    "This week we'll be learning about lists and control flow. From now on, you'll be applying your knowledge to create your very own game of Tic-Tac-Toe! As always, please ask any of our tutors for help and discuss amongst yourselves.\n",
    "\n",
    "To run your code, click on the cell you want to run and either press the *Run* button above or press `Ctrl+Enter`.\n",
    "\n",
    "**Remember** - this notebook won't save when you close this tab. It's meant to serve as a self-contained guide to help you *during* the lessons. If you want to make some notes and practice outside of lessons, we recommend you use [**Repl**](https://repl.it/). "
   ]
  },
  {
   "cell_type": "markdown",
   "metadata": {},
   "source": [
    "## Lists\n",
    "\n",
    "A list is a data structure commonly used in Python. A data structure is essentially a collection of data values, that we can access and modify in certain ways. You're probably already familiar with the idea of a list. There are many different kinds of list: a shopping list, a grade list, a TO-DO list, a movie list, etc. In Python, we refer to a list with **square brackets**:\n",
    "\n",
    "```python\n",
    "my_shopping_list = [\"milk\",\"carrots\",\"potatoes\",\"onions\"]\n",
    "```\n",
    "\n",
    "In Python specifically, a list can hold a mixture of *data types* (this may not be the case in other programming languages):\n",
    "\n",
    "```python\n",
    "my_random_list = [0.6,\"hello\",True,False,450,9999999]\n",
    "```\n",
    "\n",
    "Try declaring a list yourself!"
   ]
  },
  {
   "cell_type": "code",
   "execution_count": 2,
   "metadata": {},
   "outputs": [],
   "source": [
    "#Add your code here."
   ]
  },
  {
   "cell_type": "markdown",
   "metadata": {},
   "source": [
    "## Indexing\n",
    "\n",
    "Remember - to access a certain element in a list, use the list name followed by square brackets that contain the **index** of the element you want to access. It's important to remember that in Python **indices begin at 0**. Using the `my_random_list` above,\n",
    "\n",
    "```python\n",
    "first_element = my_random_list[0]\n",
    "third_element = my_random_list[2]\n",
    "```\n",
    "You can also access elements in a list counting from the end using **negative indices**:\n",
    "\n",
    "```python\n",
    "last_element = my_random_list[-1]\n",
    "penultimate_element = my_random_list[-2]\n",
    "```\n",
    "\n",
    "Try accessing some elements of the list you defined above!"
   ]
  },
  {
   "cell_type": "code",
   "execution_count": 3,
   "metadata": {},
   "outputs": [],
   "source": [
    "#Add your code here."
   ]
  },
  {
   "cell_type": "markdown",
   "metadata": {},
   "source": [
    "### Assignment\n",
    "\n",
    "Once we know how to refer to elements of a list through indexing, we can change them using the assignment operator `=` just like you would assign any other variable:\n",
    "\n",
    "```python\n",
    "my_random_list[0] = \"goodbye\"\n",
    "print(my_random_list)\n",
    "\n",
    "Output: ['goodbye', 'hello', True, False, 450, 9999999]\n",
    "```\n",
    "\n",
    "Try changing some elements of the list you defined above!"
   ]
  },
  {
   "cell_type": "code",
   "execution_count": 4,
   "metadata": {},
   "outputs": [],
   "source": [
    "#Add your code here. "
   ]
  },
  {
   "cell_type": "markdown",
   "metadata": {},
   "source": [
    "### Extension - Slicing\n",
    "\n",
    "Ask our tutors about slicing!"
   ]
  },
  {
   "cell_type": "markdown",
   "metadata": {},
   "source": [
    "## Control Flow\n",
    "\n",
    "TBC. "
   ]
  },
  {
   "cell_type": "code",
   "execution_count": null,
   "metadata": {},
   "outputs": [],
   "source": []
  }
 ],
 "metadata": {
  "kernelspec": {
   "display_name": "Python 3",
   "language": "python",
   "name": "python3"
  },
  "language_info": {
   "codemirror_mode": {
    "name": "ipython",
    "version": 3
   },
   "file_extension": ".py",
   "mimetype": "text/x-python",
   "name": "python",
   "nbconvert_exporter": "python",
   "pygments_lexer": "ipython3",
   "version": "3.6.8"
  }
 },
 "nbformat": 4,
 "nbformat_minor": 2
}
