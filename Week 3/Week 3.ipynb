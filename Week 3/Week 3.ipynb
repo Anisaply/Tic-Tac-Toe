{
 "cells": [
  {
   "cell_type": "markdown",
   "metadata": {},
   "source": [
    "# Week 3\n",
    "\n",
    "Welcome to Week 3 of Prog Soc!\n",
    "\n",
    "This week we'll be learning about functions to refactor our game so far. As always, please ask any of our tutors for help and discuss amongst yourselves.\n",
    "\n",
    "To run your code, click on the cell you want to run and either press the *Run* button above or press `Ctrl+Enter`.\n",
    "\n",
    "**Remember** - this notebook won't save when you close this tab. It's meant to serve as a self-contained guide to help you *during* the lessons. If you want to make some notes and practice outside of lessons, we recommend you use [**Repl**](https://repl.it/)."
   ]
  },
  {
   "cell_type": "markdown",
   "metadata": {},
   "source": [
    "## Functions\n",
    "\n",
    "A function is a block of code that you can re-use elsewhere in the program. Similar to a function in math, a function in Python can take a number of arguments (including 0 arguments) and will return an output. If you have some code that performs a task, you can **define** it as a function and just *call* that function whenever you need it again later on in the program, instead of typing it all over again (which would be tedious!). \n",
    "\n",
    "Imagine you want to write a function that squares a number. In math we would denote such a function as: \n",
    "\n",
    "\\begin{equation}\n",
    "f \\left( x \\right) = x^2\n",
    "\\end{equation}\n",
    "\n",
    "Of course, we can translate this into Python:\n",
    "\n",
    "```python\n",
    "def square(x):\n",
    "    return x**2\n",
    "```\n",
    "\n",
    "In this example, we have *defined* a function `square` with the keyword `def`. Our function `square` takes one argument, `x`, and *returns* its square. Note that if you have previously declared a variable `x`, the `x` in this function is **not** the same variable. The `x` that `square` takes as an argument is a *temporary* variable i.e. it is what the function \"names\" the argument you give it. If this confuses you, just rename either one of the variables so that they are different. Once the function is finished executing you can no longer refer to the temporary variable/argument.\n",
    "\n",
    "Now that we have defined our function, we can **call** it whenever we need it. For instance, if we want to square the numbers 1, 2, and 3, we can do the following:\n",
    "\n",
    "```python\n",
    "print(square(1))\n",
    "print(square(2))\n",
    "print(square(3))\n",
    "```\n",
    "\n",
    "As you now know from last week, we can actually use a loop to simplify this further:\n",
    "\n",
    "```python\n",
    "for i in range(1,4):\n",
    "    print(square(i))\n",
    "```    \n",
    "\n",
    "### Side note - Returning v. Printing\n",
    "\n",
    "If a function returns a value, you'll have to explicitly `print()` it to see the output. If you want you could also save the result to a variable for future use. Try replacing `return` with a `print()` statement in our `square` function above, call the function, and see what happens! \n"
   ]
  },
  {
   "cell_type": "code",
   "execution_count": 3,
   "metadata": {},
   "outputs": [],
   "source": [
    "# Delete this and code!"
   ]
  }
 ],
 "metadata": {
  "kernelspec": {
   "display_name": "Python 3",
   "language": "python",
   "name": "python3"
  },
  "language_info": {
   "codemirror_mode": {
    "name": "ipython",
    "version": 3
   },
   "file_extension": ".py",
   "mimetype": "text/x-python",
   "name": "python",
   "nbconvert_exporter": "python",
   "pygments_lexer": "ipython3",
   "version": "3.6.8"
  }
 },
 "nbformat": 4,
 "nbformat_minor": 2
}
