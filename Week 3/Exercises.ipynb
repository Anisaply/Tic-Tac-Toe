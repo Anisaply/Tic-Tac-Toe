{
 "cells": [
  {
   "cell_type": "markdown",
   "metadata": {},
   "source": [
    "## Exercises\n",
    "\n",
    "### Simple Maths\n",
    "\n",
    "Define a function which takes in a single (numerical) argument and returns a value which is 4 times the input squared + 7 times the input + 2, i.e. the mathematical function:\n",
    "\n",
    "\\begin{equation}\n",
    "f (x) = 4 x^2 + 7 x + 2\n",
    "\\end{equation}"
   ]
  },
  {
   "cell_type": "markdown",
   "metadata": {},
   "source": [
    "## Vowel Counter\n",
    "\n",
    "Write a function that takes in a `string` and returns the number of vowels contained in it."
   ]
  },
  {
   "cell_type": "markdown",
   "metadata": {},
   "source": [
    "## Factorial\n",
    "\n",
    "Create a function that finds the *factorial* of the given input. Recall if necessary that the factorial of a number $n$ is the product of all the numbers between $1$ and $n$:\n",
    "\n",
    "\\begin{equation}\n",
    "n! = \\prod_{i=1}^{n} i = n (n-1) (n-2) ... 1\n",
    "\\end{equation}"
   ]
  },
  {
   "cell_type": "markdown",
   "metadata": {},
   "source": [
    "## List Intersection\n",
    "\n",
    "Define a function that takes in *three* inputs which are lists and returns the intersection of them, i.e. the elements that appear in **all** of the three lists."
   ]
  },
  {
   "cell_type": "markdown",
   "metadata": {},
   "source": [
    "## Further Exercises\n",
    "\n",
    "### Cell Phone Triangulation (*Very Challenging*)\n",
    "\n",
    "Detectives and police officers often trace the origin of a phone call using a method called *triangulation*. This involves getting the straight line distance of the call to (at least) 3 *cell towers* with known locations. From this data, it is possible to pinpoint the location of the device being used to place the call.\n",
    "\n",
    "You are given the locations of 2 towers in relation to the first tower, $t_{1}$. $t_{2}$ is exactly 1 mile due *East* of $t_{1}$, and $t_{3}$ is exactly 2 miles due *North* of $t_{1}$.\n",
    "\n",
    "Your task is to define a function that takes in 3 numerical values that represent the distances of a call to the 3 towers defined above (in the order $t_{1}, t_{2}, t_{3}$) and returns the exact location of the caller. Your answer's units should be in miles East of $t_{1}$ and miles North of $t_{1}$."
   ]
  }
 ],
 "metadata": {
  "kernelspec": {
   "display_name": "Python 3",
   "language": "python",
   "name": "python3"
  },
  "language_info": {
   "codemirror_mode": {
    "name": "ipython",
    "version": 3
   },
   "file_extension": ".py",
   "mimetype": "text/x-python",
   "name": "python",
   "nbconvert_exporter": "python",
   "pygments_lexer": "ipython3",
   "version": "3.7.1"
  }
 },
 "nbformat": 4,
 "nbformat_minor": 2
}
