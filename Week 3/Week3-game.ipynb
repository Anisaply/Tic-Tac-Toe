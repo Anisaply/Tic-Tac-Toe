{
 "cells": [
  {
   "cell_type": "markdown",
   "metadata": {},
   "source": [
    "## Game\n",
    "\n",
    "We're going to **refactor** (clean up and organise) our code so that it's easier to read. We can do this through functions! Write functions `placeX()` and `placeO()` that place an `X` or an `O` respectively."
   ]
  },
  {
   "cell_type": "code",
   "execution_count": 1,
   "metadata": {},
   "outputs": [],
   "source": [
    "board = [[0,0,0],[0,0,0],[0,0,0]]\n",
    "\n",
    "# Delete this and code!"
   ]
  },
  {
   "cell_type": "markdown",
   "metadata": {},
   "source": [
    "Now we want to introduce a **turn-based** mechanic into our game. Write a function `loop` that will run for 10 turns. During each turn, Player 1 will place an `X` or Player 2 will place an `O` somewhere on the board. Player 1 starts. \n",
    "\n",
    "At this point, your program should consist of the `loop`, `placeX()` and `placeO()` functions.\n",
    "\n",
    "**Extension** - check if a cell has already been filled i.e. someone has placed an `X` or `O` in it."
   ]
  },
  {
   "cell_type": "code",
   "execution_count": null,
   "metadata": {},
   "outputs": [],
   "source": [
    "# Delete this and code!"
   ]
  }
 ],
 "metadata": {
  "kernelspec": {
   "display_name": "Python 3",
   "language": "python",
   "name": "python3"
  },
  "language_info": {
   "codemirror_mode": {
    "name": "ipython",
    "version": 3
   },
   "file_extension": ".py",
   "mimetype": "text/x-python",
   "name": "python",
   "nbconvert_exporter": "python",
   "pygments_lexer": "ipython3",
   "version": "3.7.1"
  }
 },
 "nbformat": 4,
 "nbformat_minor": 2
}
