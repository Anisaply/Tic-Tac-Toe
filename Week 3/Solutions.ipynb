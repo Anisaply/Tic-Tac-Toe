{
 "cells": [
  {
   "cell_type": "markdown",
   "metadata": {},
   "source": [
    "## Exercises\n",
    "\n",
    "### Simple Maths\n",
    "\n",
    "Define a function which takes in a single (numerical) argument and returns a value which is 4 times the input squared + 7 times the input + 2, i.e. the mathematical function:\n",
    "\n",
    "\\begin{equation}\n",
    "f (x) = 4 x^2 + 7 x + 2\n",
    "\\end{equation}"
   ]
  },
  {
   "cell_type": "code",
   "execution_count": 30,
   "metadata": {},
   "outputs": [
    {
     "name": "stdout",
     "output_type": "stream",
     "text": [
      "137\n"
     ]
    }
   ],
   "source": [
    "def f(x):\n",
    "    return 4*(x**2)+7*x+2\n",
    "\n",
    "print(f(5)) # output: 137"
   ]
  },
  {
   "cell_type": "markdown",
   "metadata": {},
   "source": [
    "## Vowel Counter\n",
    "\n",
    "Write a function that takes in a `string` and returns the number of vowels contained in it."
   ]
  },
  {
   "cell_type": "code",
   "execution_count": 4,
   "metadata": {},
   "outputs": [
    {
     "name": "stdout",
     "output_type": "stream",
     "text": [
      "3\n",
      "6\n"
     ]
    }
   ],
   "source": [
    "vowels = 'aeiou'\n",
    "\n",
    "# this function is case-insensitive! Can you spot how this was done in the function below?\n",
    "def count_vowels(string):\n",
    "    vowel_count = 0\n",
    "    for letter in string:\n",
    "        if letter.lower() in vowels:\n",
    "            vowel_count += 1 # shorthand for vowel_count = vowel_count + 1\n",
    "    return vowel_count\n",
    "            \n",
    "print(count_vowels('hello world')) # output: 3\n",
    "print(count_vowels('HELLO UNIVERSE')) # output: 6"
   ]
  },
  {
   "cell_type": "markdown",
   "metadata": {},
   "source": [
    "## Factorial\n",
    "\n",
    "Create a function that finds the *factorial* of the given input. Recall if necessary that the factorial of a number $n$ is the product of all the numbers between $1$ and $n$:\n",
    "\n",
    "\\begin{equation}\n",
    "n! = \\prod_{i=1}^{n} i = n (n-1) (n-2) ... 1\n",
    "\\end{equation}"
   ]
  },
  {
   "cell_type": "code",
   "execution_count": 11,
   "metadata": {},
   "outputs": [
    {
     "name": "stdout",
     "output_type": "stream",
     "text": [
      "120\n"
     ]
    }
   ],
   "source": [
    "def factorial(n):\n",
    "    product = 1\n",
    "    \n",
    "    # using iterative loop, this can also be done recursively\n",
    "    for i in range(1, n+1):\n",
    "        product *= i # this is shorthand for product = product * i\n",
    "        \n",
    "    return product\n",
    "\n",
    "print(factorial(5)) # output: 120"
   ]
  },
  {
   "cell_type": "markdown",
   "metadata": {},
   "source": [
    "## List Intersection\n",
    "\n",
    "Define a function that takes in *three* inputs which are lists and returns the intersection of them, i.e. the elements that appear in **all** of the three lists."
   ]
  },
  {
   "cell_type": "code",
   "execution_count": 28,
   "metadata": {},
   "outputs": [
    {
     "data": {
      "text/plain": [
       "['b', 'c', 'd']"
      ]
     },
     "execution_count": 28,
     "metadata": {},
     "output_type": "execute_result"
    }
   ],
   "source": [
    "test_array = ['b', 'c', 'd', 'e', 'f', 'g', 'h']\n",
    "test_array2 = ['b', 'c', 'd', 'e', 'f']\n",
    "test_array3 = ['a', 'b', 'c', 'd'] \n",
    "\n",
    "def find_intersection(arr1, arr2, arr3):\n",
    "    \n",
    "    result = []\n",
    "    arrays = [arr1,arr2,arr3]\n",
    "    \n",
    "    # first find the shortest array/list \n",
    "    \n",
    "    # find the minimum array length\n",
    "    min_length = min([len(arr) for arr in arrays]) \n",
    "    \n",
    "    # find the index of the array with the minimum array length in 'arrays'; this is the shortest array\n",
    "    shortest_array = arrays[array_lengths.index(min_length)] \n",
    "    \n",
    "    # check against the two other arrays, if the item is present append to result\n",
    "    for i in shortest_array:\n",
    "        if i in arr2 and i in arr3:\n",
    "            result.append(i)\n",
    "            \n",
    "    return result\n",
    "        \n",
    "find_intersection(test_array, test_array2, test_array3) # output: ['b', 'c', 'd']"
   ]
  },
  {
   "cell_type": "markdown",
   "metadata": {},
   "source": [
    "## Further Exercises\n",
    "\n",
    "### Cell Phone Triangulation (*Very Challenging*)\n",
    "\n",
    "Detectives and police officers often trace the origin of a phone call using a method called *triangulation*. This involves getting the straight line distance of the call to (at least) 3 *cell towers* with known locations. From this data, it is possible to pinpoint the location of the device being used to place the call.\n",
    "\n",
    "You are given the locations of 2 towers in relation to the first tower, $t_{1}$. $t_{2}$ is exactly 1 mile due *East* of $t_{1}$, and $t_{3}$ is exactly 2 miles due *North* of $t_{1}$.\n",
    "\n",
    "Your task is to define a function that takes in 3 numerical values that represent the distances of a call to the 3 towers defined above (in the order $t_{1}, t_{2}, t_{3}$) and returns the exact location of the caller. Your answer's units should be in miles East of $t_{1}$ and miles North of $t_{1}$."
   ]
  },
  {
   "cell_type": "code",
   "execution_count": null,
   "metadata": {},
   "outputs": [],
   "source": [
    "# TODO"
   ]
  }
 ],
 "metadata": {
  "kernelspec": {
   "display_name": "Python 3",
   "language": "python",
   "name": "python3"
  },
  "language_info": {
   "codemirror_mode": {
    "name": "ipython",
    "version": 3
   },
   "file_extension": ".py",
   "mimetype": "text/x-python",
   "name": "python",
   "nbconvert_exporter": "python",
   "pygments_lexer": "ipython3",
   "version": "3.7.1"
  }
 },
 "nbformat": 4,
 "nbformat_minor": 2
}
